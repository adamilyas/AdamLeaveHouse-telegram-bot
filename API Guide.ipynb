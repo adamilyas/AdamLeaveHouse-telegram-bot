{
 "cells": [
  {
   "cell_type": "markdown",
   "metadata": {},
   "source": [
    "# API Guide\n",
    "\n",
    "- LTA DataMall\n",
    "- Telegram API\n",
    "\n",
    "## LTA DataMall API\n",
    "https://www.mytransport.sg/content/dam/datamall/datasets/LTA_DataMall_API_User_Guide.pdf"
   ]
  },
  {
   "cell_type": "code",
   "execution_count": 1,
   "metadata": {},
   "outputs": [],
   "source": [
    "import requests as rq\n",
    "from datetime import datetime\n",
    "from config import data_mall_key"
   ]
  },
  {
   "cell_type": "code",
   "execution_count": 2,
   "metadata": {},
   "outputs": [],
   "source": [
    "url = 'http://datamall2.mytransport.sg/ltaodataservice/BusArrivalv2'\n",
    "\n",
    "bus_stop_id=70259\n",
    "\n",
    "response = rq.get(\n",
    "    url,\n",
    "    params={'BusStopCode': bus_stop_id},\n",
    "    headers={'AccountKey': data_mall_key, 'Accept': 'application/json'}\n",
    ")"
   ]
  },
  {
   "cell_type": "code",
   "execution_count": 3,
   "metadata": {},
   "outputs": [],
   "source": [
    "content = response.json()"
   ]
  },
  {
   "cell_type": "code",
   "execution_count": 4,
   "metadata": {},
   "outputs": [
    {
     "name": "stdout",
     "output_type": "stream",
     "text": [
      "10\n",
      "13\n"
     ]
    }
   ],
   "source": [
    "def time_delta_isoformat(isoformat_timestamp: str) -> float:\n",
    "    \"\"\"\n",
    "    Returns\n",
    "        float: time_delta in seconds \n",
    "    \"\"\"\n",
    "    arrival_dt = datetime.fromisoformat(isoformat_timestamp) # offset-aware datetime obj\n",
    "    arrival_timestamp = arrival_dt.timestamp() # https://www.unixtimestamp.com/\n",
    "    \n",
    "    current_timestamp = datetime.now().timestamp()\n",
    "    return arrival_timestamp - current_timestamp\n",
    "\n",
    "for service in content['Services']:\n",
    "    if service['ServiceNo'] == '24':\n",
    "        \n",
    "        next_bus = service['NextBus']\n",
    "        minutes_to_arrival = time_delta_isoformat(next_bus['EstimatedArrival'])/60\n",
    "        minutes_to_arrival = int(minutes_to_arrival)\n",
    "        print(minutes_to_arrival)\n",
    "\n",
    "        next_bus = service['NextBus2']\n",
    "        minutes_to_arrival = time_delta_isoformat(next_bus['EstimatedArrival'])/60\n",
    "        minutes_to_arrival = int(minutes_to_arrival)\n",
    "        print(minutes_to_arrival)\n",
    "        \n",
    "# what i need"
   ]
  },
  {
   "cell_type": "markdown",
   "metadata": {},
   "source": [
    "## Telegram API\n",
    "\n",
    "### API\n",
    "[https://core.telegram.org/bots/api#making-requests](https://core.telegram.org/bots/api#making-requests)\n",
    "All queries to the Telegram Bot API must be served over HTTPS and need to be presented in this form: `https://api.telegram.org/bot<token>/<METHOD_NAME>`\n",
    "\n",
    "Methods:\n",
    "- `/getMe` [GET]\n",
    "- `/getUpdates` [GET]\n",
    "- `/sendmessage?chat_id=<CHAT_ID>&text=<MESSAGE>` [GET]\n",
    "\n",
    "### Setup webhook\n",
    "`/setWebhook?url=<your webhook>`"
   ]
  },
  {
   "cell_type": "code",
   "execution_count": 5,
   "metadata": {},
   "outputs": [],
   "source": [
    "from config import token"
   ]
  },
  {
   "cell_type": "code",
   "execution_count": null,
   "metadata": {},
   "outputs": [],
   "source": [
    "base_url = f'https://api.telegram.org/bot{token}'\n",
    "response = rq.get(base_url + '/getme')\n",
    "response.json()"
   ]
  },
  {
   "cell_type": "code",
   "execution_count": null,
   "metadata": {},
   "outputs": [],
   "source": [
    "response = rq.get(base_url + '/getUpdates')\n",
    "content = response.json()"
   ]
  },
  {
   "cell_type": "code",
   "execution_count": 9,
   "metadata": {},
   "outputs": [],
   "source": [
    "chat_id = content['result'][0]['message']['from']['id']"
   ]
  },
  {
   "cell_type": "code",
   "execution_count": 10,
   "metadata": {},
   "outputs": [],
   "source": [
    "message = \"Hello From Jupyter\"\n",
    "response = rq.get(base_url + f'/sendMessage?chat_id={chat_id}&text={message}')"
   ]
  },
  {
   "cell_type": "code",
   "execution_count": null,
   "metadata": {},
   "outputs": [],
   "source": [
    "response.json()"
   ]
  },
  {
   "cell_type": "code",
   "execution_count": null,
   "metadata": {},
   "outputs": [],
   "source": []
  }
 ],
 "metadata": {
  "kernelspec": {
   "display_name": "Python 3",
   "language": "python",
   "name": "python3"
  },
  "language_info": {
   "codemirror_mode": {
    "name": "ipython",
    "version": 3
   },
   "file_extension": ".py",
   "mimetype": "text/x-python",
   "name": "python",
   "nbconvert_exporter": "python",
   "pygments_lexer": "ipython3",
   "version": "3.7.4"
  }
 },
 "nbformat": 4,
 "nbformat_minor": 2
}
